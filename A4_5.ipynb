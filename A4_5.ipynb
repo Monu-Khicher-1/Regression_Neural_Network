{
  "nbformat": 4,
  "nbformat_minor": 0,
  "metadata": {
    "colab": {
      "provenance": []
    },
    "kernelspec": {
      "name": "python3",
      "display_name": "Python 3"
    },
    "language_info": {
      "name": "python"
    }
  },
  "cells": [
    {
      "cell_type": "code",
      "execution_count": null,
      "metadata": {
        "id": "C9Bf4N9xRWoU"
      },
      "outputs": [],
      "source": [
        "# Best Model "
      ]
    },
    {
      "cell_type": "markdown",
      "source": [
        "# Improve the CNN Model \n",
        "\n",
        "Improved model is \n",
        "\n",
        "\n",
        "\n",
        "*   CONV1: Kernel size(3x3), In channels 3, Out channels 32\n",
        "*   BN1 : In channel 32 \n",
        "*   CONV2: Kernel size(3x3), In channels 32, Out channels 64\n",
        "*   BN2 : In channel 64\n",
        "*   CONV3: Kernel size(3x3), In channels 64, Out channels 128\n",
        "*   BN3 : In channel 128\n",
        "*   CONV4: Kernel size(3x3), In channels 128, Out channels 256\n",
        "*   BN4 : In channel 256\n",
        "*   POOL1 : Kernel Size (2x2) and stride = 2\n",
        "*   FC1 : fully connected layer with 512 output neurons.\n",
        "*   BN5 : In channel 512\n",
        "*   FC2 : fully connected layer with 10 output neurons.\n",
        "\n"
      ],
      "metadata": {
        "id": "KHako0-OSmBq"
      }
    },
    {
      "cell_type": "markdown",
      "source": [
        "This model includes several improvements over a simple CNN model. It uses batch normalization after each convolutional layer, which helps to reduce overfitting and improve the speed of convergence during training. "
      ],
      "metadata": {
        "id": "KJi--WKhSvQh"
      }
    },
    {
      "cell_type": "code",
      "source": [
        "import torch\n",
        "import torch.nn as nn\n",
        "import torchvision\n",
        "import torchvision.transforms as transforms\n",
        "import torchvision.datasets as datasets\n",
        "import matplotlib.pyplot as plt\n",
        "import numpy as np\n",
        "import torch.nn.functional as F\n",
        "\n",
        "device = torch.device('cuda' if torch.cuda.is_available() else 'cpu')"
      ],
      "metadata": {
        "id": "aGKNpNbvSut7"
      },
      "execution_count": null,
      "outputs": []
    },
    {
      "cell_type": "code",
      "source": [
        "class ImprovedCNN(nn.Module):\n",
        "    def __init__(self):\n",
        "        super(ImprovedCNN, self).__init__()\n",
        "        self.conv1 = nn.Conv2d(in_channels=3, out_channels=32, kernel_size=3, padding=1)\n",
        "        self.bn1 = nn.BatchNorm2d(32)\n",
        "        self.conv2 = nn.Conv2d(in_channels=32, out_channels=64, kernel_size=3, padding=1)\n",
        "        self.bn2 = nn.BatchNorm2d(64)\n",
        "        self.conv3 = nn.Conv2d(in_channels=64, out_channels=128, kernel_size=3, padding=1)\n",
        "        self.bn3 = nn.BatchNorm2d(128)\n",
        "        self.conv4 = nn.Conv2d(in_channels=128, out_channels=256, kernel_size=3, padding=1)\n",
        "        self.bn4 = nn.BatchNorm2d(256)\n",
        "        self.pool = nn.MaxPool2d(kernel_size=2, stride=2)\n",
        "        self.fc1 = nn.Linear(in_features=4096, out_features=512)\n",
        "        self.bn5 = nn.BatchNorm1d(512)\n",
        "        self.fc2 = nn.Linear(in_features=512, out_features=10)\n",
        "\n",
        "    def forward(self, x):\n",
        "        x = F.relu(self.bn1(self.conv1(x)))\n",
        "        x = self.pool(F.relu(self.bn2(self.conv2(x))))\n",
        "        x = F.relu(self.bn3(self.conv3(x)))\n",
        "        x = self.pool(F.relu(self.bn4(self.conv4(x))))\n",
        "        x = x.view(-1, 4096)\n",
        "        x = F.relu(self.bn5(self.fc1(x)))\n",
        "        x = self.fc2(x)\n",
        "        return x\n",
        "\n"
      ],
      "metadata": {
        "id": "SYUrVgtnSbZr"
      },
      "execution_count": null,
      "outputs": []
    },
    {
      "cell_type": "code",
      "source": [],
      "metadata": {
        "id": "_T1p3YeDV3To"
      },
      "execution_count": null,
      "outputs": []
    },
    {
      "cell_type": "code",
      "source": [
        "class Net(nn.Module):\n",
        "    def __init__(self):\n",
        "        super().__init__()\n",
        "        self.conv1 = nn.Conv2d(3, 32, 3)\n",
        "        self.pool = nn.MaxPool2d(2, stride=1)\n",
        "        self.conv2 = nn.Conv2d(32, 64, 5)\n",
        "        self.conv3 = nn.Conv2d(64, 64, 3)\n",
        "        self.fc1 = nn.Linear(22*22*64, 64)\n",
        "        self.fc2 = nn.Linear(64, 10)\n",
        "\n",
        "    def forward(self, x):\n",
        "        x = self.pool(F.relu(self.conv1(x)))\n",
        "        x = self.pool(F.relu(self.conv2(x)))\n",
        "        x = (F.relu(self.conv3(x)))\n",
        "        x = torch.flatten(x, 1) # flatten all dimensions except batch\n",
        "        x = F.relu(self.fc1(x))\n",
        "        x = self.fc2(x)\n",
        "        return x\n",
        "def Accuracy(dataloader,model):     \n",
        "    correct = 0\n",
        "    total = 0\n",
        "    # since we're not training, we don't need to calculate the gradients for our outputs\n",
        "    for data in dataloader:\n",
        "        images, labels = data\n",
        "        images = images.to(device)\n",
        "        labels = labels.to(device)\n",
        "        outputs = model(images)\n",
        "        _, predicted = torch.max(outputs.data, 1)\n",
        "        total += labels.size(0)\n",
        "        correct += (predicted == labels).sum().item()\n",
        "\n",
        "    return 100 * correct / total\n",
        "\n",
        "\n",
        "\n",
        "class CNNModel:\n",
        "  def __init__(self, batch_size,epochs,lr):\n",
        "    self.batchSize = batch_size\n",
        "    self.epochs = epochs\n",
        "    self.learningRate = lr\n",
        "    self.classes = ('plane', 'car', 'bird', 'cat', 'deer', 'dog', 'frog', 'horse', 'ship', 'truck')\n",
        "    self.trainloader = None\n",
        "    self.valLoader = None\n",
        "    self.AccTrain = []\n",
        "    self.AccVal = []\n",
        "    self.Epoch = []\n",
        "    self.Model = None\n",
        "    self.loss = {}\n",
        "    self.err = {}\n",
        "    self.lossT = []\n",
        "    # self.err['train'] = []\n",
        "    self.lossV = []\n",
        "    # self.err['val'] = []\n",
        "    self.best = None\n",
        "    self.bestLossT = None\n",
        "    self.bestLossV = None\n",
        "\n",
        "    # self.xepoch\n",
        "\n",
        "  def classWiseAcc(self, dataloader, model):\n",
        "      correct_pred = {classname: 0 for classname in self.classes}\n",
        "      total_pred = {classname: 0 for classname in self.classes}\n",
        "\n",
        "      # again no gradients needed\n",
        "      with torch.no_grad():\n",
        "          for data in dataloader:\n",
        "              images, labels = data\n",
        "              outputs = model(images)\n",
        "              _, predictions = torch.max(outputs, 1)\n",
        "              # collect the correct predictions for each class\n",
        "              for label, prediction in zip(labels, predictions):\n",
        "                  if label == prediction:\n",
        "                      correct_pred[self.classes[label]] += 1\n",
        "                  total_pred[self.classes[label]] += 1\n",
        "\n",
        "\n",
        "      # print accuracy for each class\n",
        "      for classname, correct_count in correct_pred.items():\n",
        "          accuracy = 100 * float(correct_count) / total_pred[classname]\n",
        "          print(f'Accuracy for class: {classname:5s} is {accuracy:.1f} %')\n",
        "\n",
        "\n",
        " \n",
        "  def loadData(self):\n",
        "    # Data transformations \n",
        "    normal_transform = transforms.Compose(\n",
        "        [transforms.ToTensor(),\n",
        "        transforms.Normalize((0.5, 0.5, 0.5), (0.5, 0.5, 0.5))])\n",
        "\n",
        "    flip_transform = transforms.Compose(\n",
        "        [transforms.ToTensor(),\n",
        "        transforms.Normalize((0.5, 0.5, 0.5), (0.5, 0.5, 0.5))\n",
        "        # ,transforms.RandomHorizontalFlip(), transforms.RandomCrop(size=32)\n",
        "        ])\n",
        "    # Data Loading \n",
        "\n",
        "    trainset = torchvision.datasets.CIFAR10(root='./data', train=True,\n",
        "                                            download=True, transform=flip_transform)\n",
        "    trainloader = torch.utils.data.DataLoader(trainset, batch_size=self.batchSize,\n",
        "                                              shuffle=True, num_workers=2)\n",
        "    testset = torchvision.datasets.CIFAR10(root='./data', train=False,\n",
        "                                          download=True, transform=normal_transform)\n",
        "    testloader = torch.utils.data.DataLoader(testset, batch_size=self.batchSize,\n",
        "                                            shuffle=False, num_workers=2)\n",
        "    self.trainloader = trainloader\n",
        "    self.valLoader = testloader\n",
        "    print(\"Data Loaded\")\n",
        "\n",
        "  def valLoss(self,model,dataloader):\n",
        "      running_loss = 0.0\n",
        "      criterion = nn.CrossEntropyLoss()\n",
        "      for i, data in enumerate(self.trainloader, 0):\n",
        "          inputs, labels = data\n",
        "          images = inputs.to(device)\n",
        "          labels = labels.to(device)\n",
        "          outputs = model(images)\n",
        "          loss = criterion(outputs, labels)\n",
        "          running_loss += loss.item()\n",
        "\n",
        "      no_of_batches = 50000/self.batchSize\n",
        "      return running_loss/ no_of_batches\n",
        "\n",
        "  def train(self):\n",
        "    batches = 50000/self.batchSize\n",
        "    Train_Acc=[]\n",
        "    Test_Acc=[]\n",
        "    Train_Loss=[]\n",
        "    Test_Loss = []\n",
        "    Epochs=[]\n",
        "    running_loss = 0.0\n",
        "    running_corrects = 0.0\n",
        "    minLossT = 100\n",
        "    minLossV = 100\n",
        "\n",
        "    model = Net().to(device)\n",
        "    criterion = nn.CrossEntropyLoss()\n",
        "    optimizer = torch.optim.SGD(model.parameters(),lr=self.learningRate)\n",
        "    for epoch in range(self.epochs):  \n",
        "      running_loss = 0.0\n",
        "      for i, data in enumerate(self.trainloader, 0):\n",
        "          inputs, labels = data\n",
        "          images = inputs.to(device)\n",
        "          labels = labels.to(device)\n",
        "          # zero the parameter gradients\n",
        "          optimizer.zero_grad()\n",
        "          # Forward Pass\n",
        "          outputs = model(images)\n",
        "          loss = criterion(outputs, labels)\n",
        "          # Backpropagation and optimizatuon\n",
        "\n",
        "          loss.backward()\n",
        "          optimizer.step()\n",
        "\n",
        "          # print statistics\n",
        "          running_loss += loss.item()\n",
        "          # if i % 4000 == 3999:    # print every 2000 mini-batches\n",
        "      print(f' Epoch: {epoch + 1} loss: {running_loss / batches:.3f}')\n",
        "      train_loss = running_loss / batches\n",
        "      if(train_loss<minLossT):\n",
        "        minLossT = train_loss\n",
        "        self.bestLossT = minLossT\n",
        "        self.best = model\n",
        "      Train_Loss.append(train_loss)\n",
        "      running_loss = 0.0\n",
        "      with torch.no_grad():\n",
        "        testAcc = Accuracy(self.valLoader,model)\n",
        "        trainAcc = Accuracy(self.trainloader, model)\n",
        "        Train_Acc.append(trainAcc)\n",
        "        Test_Acc.append(testAcc)\n",
        "        val_loss = self.valLoss(model,self.valLoader)\n",
        "        if(val_loss<minLossV):\n",
        "          minLossV = val_loss\n",
        "          self.bestLossV = minLossV\n",
        "        Test_Loss.append(val_loss)\n",
        "        Epochs.append(epoch+1)\n",
        "        print(f'Accuracy of the network on the 10000 test images: {testAcc} %')\n",
        "        print(f'Accuracy of the network on the train images: {trainAcc} %')\n",
        "    self.Model = model\n",
        "    self.AccVal = Test_Acc\n",
        "    self.AccTrain = Train_Acc\n",
        "    self.Epoch = Epochs\n",
        "    self.lossT = Train_Loss\n",
        "    self.lossV = Test_Loss\n",
        "\n",
        "\n"
      ],
      "metadata": {
        "id": "_M0w0kf0TVIs"
      },
      "execution_count": null,
      "outputs": []
    },
    {
      "cell_type": "code",
      "source": [],
      "metadata": {
        "id": "6OWyFJ6BWANF"
      },
      "execution_count": null,
      "outputs": []
    },
    {
      "cell_type": "code",
      "source": [
        "def drawAcc(TrainAcc,TestAcc,Epoch):\n",
        "  x = Epoch\n",
        "  y1= TrainAcc\n",
        "  y2 = TestAcc\n",
        "\n",
        "  plt.plot(x,y1,color='blue',label = 'Training Accuracy') # for training data \n",
        "  plt.plot(x,y2,color='red',label= 'Validation Accuracy') # for test data \n",
        "  plt.title(\"Accuracy Curve\")\n",
        "  plt.legend()\n",
        "  plt.show()\n",
        "\n",
        "#===============================================\n",
        "#----------Draw loss curve ---------------------\n",
        "\n",
        "def drawLoss(trainLoss,valLoss,Epoch):\n",
        "  x = Epoch\n",
        "  y1= trainLoss\n",
        "  y2 = valLoss\n",
        "\n",
        "  plt.plot(x,y1,color='blue',label = 'Training Loss') # for training data \n",
        "  plt.plot(x,y2,color='red',label= 'Validation Loss') # for test data \n",
        "  plt.title(\"Loss Curve\")\n",
        "  plt.legend()\n",
        "  plt.show()"
      ],
      "metadata": {
        "id": "v7YqauydajTQ"
      },
      "execution_count": null,
      "outputs": []
    },
    {
      "cell_type": "code",
      "source": [],
      "metadata": {
        "id": "zZ9kMDrnWNiH"
      },
      "execution_count": null,
      "outputs": []
    },
    {
      "cell_type": "code",
      "source": [
        "def drawLR(x,y,z):\n",
        "  plt.plot(x,y,color='blue',label = 'Training Accuracy') # for training data \n",
        "  plt.plot(x,z,color='red',label= 'Validation Accuracy') # for test data \n",
        "  plt.legend()\n",
        "  plt.xlabel(\"Learning Rate\")\n",
        "  plt.ylabel(\"Accuracy\")\n",
        "  plt.show()\n",
        "\n",
        "ValAcc = []\n",
        "ValLoss = []\n",
        "TrainAcc = []\n",
        "TrainLoss = []\n",
        "\n",
        "Models = [0,0,0,0]\n",
        "# \n",
        "i=0\n",
        "lr=0.005\n",
        "print(\"=====================================\")\n",
        "print(\"---------(\"+\"lr = \"+str(lr)+\" )----------\")\n",
        "M = CNNModel(4,10,lr)\n",
        "M.loadData()\n",
        "M.train() \n",
        "Models[i]=M\n",
        "model = M.best\n",
        "trainloader = M.trainloader\n",
        "valLoader = M.valLoader\n",
        "drawAcc(M.AccTrain,M.AccVal,M.Epoch)\n",
        "drawLoss(M.lossT,M.lossV,M.Epoch)\n",
        "accT = Accuracy(trainloader,model)\n",
        "accV = Accuracy(valLoader,model)\n",
        "ValAcc.append(accV)\n",
        "TrainAcc.append(accT)\n",
        "ValLoss.append(M.bestLossV)\n",
        "TrainLoss.append(M.bestLossT)\n",
        "\n",
        "print(\"Class waise Accuracy on train Data\")\n",
        "M.classWiseAcc(trainloader,model)\n",
        "print()\n",
        "print(\"Class waise Accuracy on Val Data\")\n",
        "M.classWiseAcc(valLoader,model)\n",
        "print()\n",
        "\n",
        "\n",
        "# print(\"=========================================\")\n",
        "# print(\"Loss curve for different Learning rates..\")\n",
        "\n",
        "# plt.plot(LR,TrainLoss,color='blue',label = 'Training Loss') # for training data \n",
        "# plt.plot(LR,ValLoss,color='red',label= 'Validation Loss') # for test data \n",
        "# plt.title(\"Loss - Learing Rate Curve\")\n",
        "# plt.legend()\n",
        "# plt.show()\n",
        "\n",
        "\n",
        "# print(\"=========================================\")\n",
        "# print(\"Accuracy curve for different Learning rates..\")\n",
        "\n",
        "# plt.plot(LR,TrainAcc,color='blue',label = 'Training Accuracy') # for training data \n",
        "# plt.plot(LR,ValAcc,color='red',label= 'Validation Accuracy') # for test data \n",
        "# plt.title(\"Accuracy - Learing Rate Curve\") \n",
        "# plt.legend()\n",
        "# plt.show()\n",
        "\n",
        "\n"
      ],
      "metadata": {
        "colab": {
          "base_uri": "https://localhost:8080/",
          "height": 1000
        },
        "id": "dOjNpSsiao0m",
        "outputId": "58167fc7-3869-4382-cc2b-8c07a0cdd059"
      },
      "execution_count": null,
      "outputs": [
        {
          "output_type": "stream",
          "name": "stdout",
          "text": [
            "=====================================\n",
            "---------(lr = 0.005 )----------\n",
            "Downloading https://www.cs.toronto.edu/~kriz/cifar-10-python.tar.gz to ./data/cifar-10-python.tar.gz\n"
          ]
        },
        {
          "output_type": "stream",
          "name": "stderr",
          "text": [
            "100%|██████████| 170498071/170498071 [00:06<00:00, 25718766.39it/s]\n"
          ]
        },
        {
          "output_type": "stream",
          "name": "stdout",
          "text": [
            "Extracting ./data/cifar-10-python.tar.gz to ./data\n",
            "Files already downloaded and verified\n",
            "Data Loaded\n",
            " Epoch: 1 loss: 1.493\n",
            "Accuracy of the network on the 10000 test images: 55.88 %\n",
            "Accuracy of the network on the train images: 56.578 %\n",
            " Epoch: 2 loss: 1.093\n",
            "Accuracy of the network on the 10000 test images: 64.23 %\n",
            "Accuracy of the network on the train images: 66.85 %\n",
            " Epoch: 3 loss: 0.902\n",
            "Accuracy of the network on the 10000 test images: 67.53 %\n",
            "Accuracy of the network on the train images: 71.932 %\n",
            " Epoch: 4 loss: 0.760\n",
            "Accuracy of the network on the 10000 test images: 70.5 %\n",
            "Accuracy of the network on the train images: 78.904 %\n",
            " Epoch: 5 loss: 0.637\n",
            "Accuracy of the network on the 10000 test images: 71.8 %\n",
            "Accuracy of the network on the train images: 83.72 %\n",
            " Epoch: 6 loss: 0.527\n",
            "Accuracy of the network on the 10000 test images: 70.55 %\n",
            "Accuracy of the network on the train images: 85.24 %\n",
            " Epoch: 7 loss: 0.426\n",
            "Accuracy of the network on the 10000 test images: 71.08 %\n",
            "Accuracy of the network on the train images: 89.17 %\n",
            " Epoch: 8 loss: 0.339\n",
            "Accuracy of the network on the 10000 test images: 70.54 %\n",
            "Accuracy of the network on the train images: 92.68 %\n",
            " Epoch: 9 loss: 0.260\n",
            "Accuracy of the network on the 10000 test images: 70.96 %\n",
            "Accuracy of the network on the train images: 93.768 %\n",
            " Epoch: 10 loss: 0.207\n",
            "Accuracy of the network on the 10000 test images: 69.26 %\n",
            "Accuracy of the network on the train images: 94.286 %\n"
          ]
        },
        {
          "output_type": "display_data",
          "data": {
            "text/plain": [
              "<Figure size 640x480 with 1 Axes>"
            ],
            "image/png": "[encoded data removed]"
          },
          "metadata": {}
        },
        {
          "output_type": "display_data",
          "data": {
            "text/plain": [
              "<Figure size 640x480 with 1 Axes>"
            ],
            "image/png": "[encoded data removed]"
          },
          "metadata": {}
        },
        {
          "output_type": "stream",
          "name": "stdout",
          "text": [
            "Class waise Accuracy on train Data\n",
            "Accuracy for class: plane is 94.7 %\n",
            "Accuracy for class: car   is 97.2 %\n",
            "Accuracy for class: bird  is 88.5 %\n",
            "Accuracy for class: cat   is 87.2 %\n",
            "Accuracy for class: deer  is 95.3 %\n",
            "Accuracy for class: dog   is 97.2 %\n",
            "Accuracy for class: frog  is 97.4 %\n",
            "Accuracy for class: horse is 97.8 %\n",
            "Accuracy for class: ship  is 91.4 %\n",
            "Accuracy for class: truck is 96.0 %\n",
            "\n",
            "Class waise Accuracy on Val Data\n",
            "Accuracy for class: plane is 74.1 %\n",
            "Accuracy for class: car   is 82.0 %\n",
            "Accuracy for class: bird  is 51.3 %\n",
            "Accuracy for class: cat   is 44.0 %\n",
            "Accuracy for class: deer  is 66.0 %\n",
            "Accuracy for class: dog   is 69.8 %\n",
            "Accuracy for class: frog  is 77.0 %\n",
            "Accuracy for class: horse is 78.4 %\n",
            "Accuracy for class: ship  is 73.4 %\n",
            "Accuracy for class: truck is 76.6 %\n",
            "\n"
          ]
        }
      ]
    },
    {
      "cell_type": "code",
      "source": [
        "print(\"=====================================================\")\n",
        "\n",
        "bestModel = M.best\n",
        "acc = Accuracy(M.valLoader,bestModel)\n",
        "print(\"Accuracy for Model is \",acc)\n",
        "\n",
        "print(\"===================================================\")\n",
        "print(\"Done\")"
      ],
      "metadata": {
        "id": "NCXr7t_lWw4Q",
        "colab": {
          "base_uri": "https://localhost:8080/"
        },
        "outputId": "e184b6cb-58d7-4ef9-ef81-38a3f278e9bb"
      },
      "execution_count": null,
      "outputs": [
        {
          "output_type": "stream",
          "name": "stdout",
          "text": [
            "=====================================================\n",
            "Accuracy for Model is  69.26\n",
            "===================================================\n",
            "Done\n"
          ]
        }
      ]
    }
  ]
}