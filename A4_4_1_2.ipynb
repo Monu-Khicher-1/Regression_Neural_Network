{
  "nbformat": 4,
  "nbformat_minor": 0,
  "metadata": {
    "colab": {
      "provenance": []
    },
    "kernelspec": {
      "name": "python3",
      "display_name": "Python 3"
    },
    "language_info": {
      "name": "python"
    }
  },
  "cells": [
    {
      "cell_type": "code",
      "execution_count": null,
      "metadata": {
        "id": "-KWoOOjswL1o"
      },
      "outputs": [],
      "source": [
        "import torch\n",
        "import torch.nn as nn\n",
        "import torchvision\n",
        "import torchvision.transforms as transforms\n",
        "import torchvision.datasets as datasets\n",
        "import matplotlib.pyplot as plt\n",
        "import numpy as np\n",
        "import torch.nn.functional as F"
      ]
    },
    {
      "cell_type": "code",
      "source": [
        "device = torch.device('cuda' if torch.cuda.is_available() else 'cpu')"
      ],
      "metadata": {
        "id": "VBGhaSOtwS_V"
      },
      "execution_count": null,
      "outputs": []
    },
    {
      "cell_type": "code",
      "source": [
        "class Net(nn.Module):\n",
        "    def __init__(self):\n",
        "        super().__init__()\n",
        "        self.conv1 = nn.Conv2d(3, 32, 3)\n",
        "        self.pool = nn.MaxPool2d(2, stride=1)\n",
        "        self.conv2 = nn.Conv2d(32, 64, 5)\n",
        "        self.conv3 = nn.Conv2d(64, 64, 3)\n",
        "        self.fc1 = nn.Linear(22*22*64, 64)\n",
        "        self.fc2 = nn.Linear(64, 10)\n",
        "      \n",
        "\n",
        "    def forward(self, x):\n",
        "        x = self.pool(F.relu(self.conv1(x)))\n",
        "        x = self.pool(F.relu(self.conv2(x)))\n",
        "        x = (F.relu(self.conv3(x)))\n",
        "        x = torch.flatten(x, 1) # flatten all dimensions except batch\n",
        "        x = F.relu(self.fc1(x))\n",
        "        x = self.fc2(x)\n",
        "        return x\n",
        "        \n",
        "# Some other functions:\n",
        "def Accuracy(dataloader,model):     \n",
        "    correct = 0\n",
        "    total = 0\n",
        "    # since we're not training, we don't need to calculate the gradients for our outputs\n",
        "    for data in dataloader:\n",
        "        images, labels = data\n",
        "        images = images.to(device)\n",
        "        labels = labels.to(device)\n",
        "        outputs = model(images)\n",
        "        _, predicted = torch.max(outputs.data, 1)\n",
        "        total += labels.size(0)\n",
        "        correct += (predicted == labels).sum().item()\n",
        "\n",
        "    return 100 * correct / total\n",
        "\n",
        "class CNNModel:\n",
        "  def __init__(self, batch_size,epochs,lr):\n",
        "    self.batchSize = batch_size\n",
        "    self.epochs = epochs\n",
        "    self.learningRate = lr\n",
        "    self.classes = ('plane', 'car', 'bird', 'cat', 'deer', 'dog', 'frog', 'horse', 'ship', 'truck')\n",
        "    self.trainloader = None\n",
        "    self.valLoader = None\n",
        "    self.AccTrain = []\n",
        "    self.AccVal = []\n",
        "    self.Epoch = []\n",
        "    self.Model = None\n",
        "    self.best = None\n",
        "\n",
        "  def loadData(self):\n",
        "    # Data transformations \n",
        "    normal_transform = transforms.Compose(\n",
        "        [transforms.ToTensor(),\n",
        "        transforms.Normalize((0.5, 0.5, 0.5), (0.5, 0.5, 0.5))])\n",
        "\n",
        "    flip_transform = transforms.Compose(\n",
        "        [transforms.ToTensor(),\n",
        "        transforms.Normalize((0.5, 0.5, 0.5), (0.5, 0.5, 0.5))\n",
        "        #,transforms.RandomHorizontalFlip(), transforms.RandomCrop(size=32)\n",
        "        ])\n",
        "    # Data Loading \n",
        "\n",
        "    trainset = torchvision.datasets.CIFAR10(root='./data', train=True,\n",
        "                                            download=True, transform=flip_transform)\n",
        "    trainloader = torch.utils.data.DataLoader(trainset, batch_size=self.batchSize,\n",
        "                                              shuffle=True, num_workers=2)\n",
        "    testset = torchvision.datasets.CIFAR10(root='./data', train=False,\n",
        "                                          download=True, transform=normal_transform)\n",
        "    testloader = torch.utils.data.DataLoader(testset, batch_size=self.batchSize,\n",
        "                                            shuffle=False, num_workers=2)\n",
        "    self.trainloader = trainloader\n",
        "    self.valLoader = testloader\n",
        "    print(\"Data Loaded\")\n",
        "\n",
        "  def train(self):\n",
        "    bestAcc = 0\n",
        "    batches = 50000/self.batchSize\n",
        "    Train_Acc=[]\n",
        "    Test_Acc=[]\n",
        "    Epochs=[]\n",
        "    model = Net().to(device)\n",
        "    criterion = nn.CrossEntropyLoss()\n",
        "    optimizer = torch.optim.SGD(model.parameters(),lr=0.01,momentum=0.9)\n",
        "    scheduler = torch.optim.lr_scheduler.ReduceLROnPlateau(optimizer, 'min')\n",
        "    for epoch in range(self.epochs):  \n",
        "      running_loss = 0.0\n",
        "      for i, data in enumerate(self.trainloader, 0):\n",
        "          inputs, labels = data\n",
        "          images = inputs.to(device)\n",
        "          labels = labels.to(device)\n",
        "          # zero the parameter gradients\n",
        "          optimizer.zero_grad()\n",
        "          # Forward Pass\n",
        "          outputs = model(images)\n",
        "          loss = criterion(outputs, labels)\n",
        "          # Backpropagation and optimizatuon\n",
        "\n",
        "          loss.backward()\n",
        "          optimizer.step()\n",
        "\n",
        "          # print statistics\n",
        "          running_loss += loss.item()\n",
        "          # if i % 4000 == 3999:    # print every 2000 mini-batches\n",
        "      print(f' Epoch: {epoch + 1} loss: {running_loss / batches:.3f}')\n",
        "      val_loss = running_loss / batches\n",
        "      scheduler.step(val_loss)\n",
        "      running_loss = 0.0\n",
        "      with torch.no_grad():\n",
        "        testAcc = Accuracy(self.valLoader,model)\n",
        "        trainAcc = Accuracy(self.trainloader, model)\n",
        "        Train_Acc.append(trainAcc)\n",
        "        Test_Acc.append(testAcc)\n",
        "        Epochs.append(epoch+1)\n",
        "        print(f'Accuracy of the network on the 10000 test images: {testAcc} %')\n",
        "        print(f'Accuracy of the network on the train images: {trainAcc} %')\n",
        "        if(testAcc>bestAcc):\n",
        "          self.best = model\n",
        "          bestAcc = testAcc\n",
        "    self.Model = model\n",
        "    self.AccVal = Test_Acc\n",
        "    self.AccTrain = Train_Acc\n",
        "    self.Epoch = Epochs\n",
        "\n",
        "def drawAcc(TrainAcc,TestAcc,Epoch):\n",
        "  x = Epoch\n",
        "  y1= TrainAcc\n",
        "  y2 = TestAcc\n",
        "\n",
        "  plt.plot(x,y1,color='blue',label = 'Training Accuracy') # for training data \n",
        "  plt.plot(x,y2,color='red',label= 'Validation Accuracy') # for test data \n",
        "  plt.legend()\n",
        "  plt.show()\n"
      ],
      "metadata": {
        "id": "v3bkYokRwXmh"
      },
      "execution_count": null,
      "outputs": []
    },
    {
      "cell_type": "code",
      "source": [
        "\n",
        "M = CNNModel(10,12,0.001)\n",
        "M.loadData()\n",
        "M.train() \n",
        "model = M.Model\n",
        "trainloader = M.trainloader\n",
        "valLoader = M.valLoader\n",
        "# print(\"=====================================\")\n",
        "# print(\"---------(\"+\"lr = \"+str(lr)+\" )----------\")\n",
        "drawAcc(M.AccTrain,M.AccVal,M.Epoch)\n",
        "accT = Accuracy(trainloader,model)\n",
        "accV = Accuracy(valLoader,model)\n",
        "# ValAcc.append(accV)\n",
        "# TrainAcc.append(accT)"
      ],
      "metadata": {
        "colab": {
          "base_uri": "https://localhost:8080/",
          "height": 984
        },
        "id": "F9HbJTZKwyRD",
        "outputId": "dd68768f-c05c-40c1-84a5-f1cec59063f1"
      },
      "execution_count": null,
      "outputs": [
        {
          "output_type": "stream",
          "name": "stdout",
          "text": [
            "Downloading https://www.cs.toronto.edu/~kriz/cifar-10-python.tar.gz to ./data/cifar-10-python.tar.gz\n"
          ]
        },
        {
          "output_type": "stream",
          "name": "stderr",
          "text": [
            "100%|██████████| 170498071/170498071 [00:01<00:00, 91960007.00it/s]\n"
          ]
        },
        {
          "output_type": "stream",
          "name": "stdout",
          "text": [
            "Extracting ./data/cifar-10-python.tar.gz to ./data\n",
            "Files already downloaded and verified\n",
            "Data Loaded\n",
            " Epoch: 1 loss: 1.791\n",
            "Accuracy of the network on the 10000 test images: 42.56 %\n",
            "Accuracy of the network on the train images: 43.666 %\n",
            " Epoch: 2 loss: 1.594\n",
            "Accuracy of the network on the 10000 test images: 43.61 %\n",
            "Accuracy of the network on the train images: 47.076 %\n",
            " Epoch: 3 loss: 1.488\n",
            "Accuracy of the network on the 10000 test images: 46.4 %\n",
            "Accuracy of the network on the train images: 51.142 %\n",
            " Epoch: 4 loss: 1.394\n",
            "Accuracy of the network on the 10000 test images: 46.45 %\n",
            "Accuracy of the network on the train images: 53.886 %\n",
            " Epoch: 5 loss: 1.340\n",
            "Accuracy of the network on the 10000 test images: 47.38 %\n",
            "Accuracy of the network on the train images: 58.24 %\n",
            " Epoch: 6 loss: 1.270\n",
            "Accuracy of the network on the 10000 test images: 46.92 %\n",
            "Accuracy of the network on the train images: 60.376 %\n",
            " Epoch: 7 loss: 1.232\n",
            "Accuracy of the network on the 10000 test images: 47.4 %\n",
            "Accuracy of the network on the train images: 64.302 %\n",
            " Epoch: 8 loss: 1.213\n",
            "Accuracy of the network on the 10000 test images: 44.42 %\n",
            "Accuracy of the network on the train images: 62.36 %\n",
            " Epoch: 9 loss: 1.171\n",
            "Accuracy of the network on the 10000 test images: 45.21 %\n",
            "Accuracy of the network on the train images: 63.814 %\n",
            " Epoch: 10 loss: 1.169\n",
            "Accuracy of the network on the 10000 test images: 44.74 %\n",
            "Accuracy of the network on the train images: 66.63 %\n",
            " Epoch: 11 loss: 1.160\n",
            "Accuracy of the network on the 10000 test images: 44.21 %\n",
            "Accuracy of the network on the train images: 63.318 %\n",
            " Epoch: 12 loss: 1.171\n",
            "Accuracy of the network on the 10000 test images: 44.81 %\n",
            "Accuracy of the network on the train images: 66.918 %\n",
            "=====================================\n"
          ]
        },
        {
          "output_type": "error",
          "ename": "NameError",
          "evalue": "ignored",
          "traceback": [
            "\u001b[0;31m---------------------------------------------------------------------------\u001b[0m",
            "\u001b[0;31mNameError\u001b[0m                                 Traceback (most recent call last)",
            "\u001b[0;32m<ipython-input-4-a46807ded030>\u001b[0m in \u001b[0;36m<cell line: 8>\u001b[0;34m()\u001b[0m\n\u001b[1;32m      6\u001b[0m \u001b[0mvalLoader\u001b[0m \u001b[0;34m=\u001b[0m \u001b[0mM\u001b[0m\u001b[0;34m.\u001b[0m\u001b[0mvalLoader\u001b[0m\u001b[0;34m\u001b[0m\u001b[0;34m\u001b[0m\u001b[0m\n\u001b[1;32m      7\u001b[0m \u001b[0mprint\u001b[0m\u001b[0;34m(\u001b[0m\u001b[0;34m\"=====================================\"\u001b[0m\u001b[0;34m)\u001b[0m\u001b[0;34m\u001b[0m\u001b[0;34m\u001b[0m\u001b[0m\n\u001b[0;32m----> 8\u001b[0;31m \u001b[0mprint\u001b[0m\u001b[0;34m(\u001b[0m\u001b[0;34m\"---------(\"\u001b[0m\u001b[0;34m+\u001b[0m\u001b[0;34m\"lr = \"\u001b[0m\u001b[0;34m+\u001b[0m\u001b[0mstr\u001b[0m\u001b[0;34m(\u001b[0m\u001b[0mlr\u001b[0m\u001b[0;34m)\u001b[0m\u001b[0;34m+\u001b[0m\u001b[0;34m\" )----------\"\u001b[0m\u001b[0;34m)\u001b[0m\u001b[0;34m\u001b[0m\u001b[0;34m\u001b[0m\u001b[0m\n\u001b[0m\u001b[1;32m      9\u001b[0m \u001b[0mdrawAcc\u001b[0m\u001b[0;34m(\u001b[0m\u001b[0mM\u001b[0m\u001b[0;34m.\u001b[0m\u001b[0mAccTrain\u001b[0m\u001b[0;34m,\u001b[0m\u001b[0mM\u001b[0m\u001b[0;34m.\u001b[0m\u001b[0mAccVal\u001b[0m\u001b[0;34m,\u001b[0m\u001b[0mM\u001b[0m\u001b[0;34m.\u001b[0m\u001b[0mEpoch\u001b[0m\u001b[0;34m)\u001b[0m\u001b[0;34m\u001b[0m\u001b[0;34m\u001b[0m\u001b[0m\n\u001b[1;32m     10\u001b[0m \u001b[0maccT\u001b[0m \u001b[0;34m=\u001b[0m \u001b[0mAccuracy\u001b[0m\u001b[0;34m(\u001b[0m\u001b[0mtrainloader\u001b[0m\u001b[0;34m,\u001b[0m\u001b[0mmodel\u001b[0m\u001b[0;34m)\u001b[0m\u001b[0;34m\u001b[0m\u001b[0;34m\u001b[0m\u001b[0m\n",
            "\u001b[0;31mNameError\u001b[0m: name 'lr' is not defined"
          ]
        }
      ]
    },
    {
      "cell_type": "code",
      "source": [
        "drawAcc(M.AccTrain,M.AccVal,M.Epoch)"
      ],
      "metadata": {
        "colab": {
          "base_uri": "https://localhost:8080/",
          "height": 430
        },
        "id": "vidT5WHyQLKe",
        "outputId": "352bcb18-33ae-42bc-fce3-1d4aed8dd524"
      },
      "execution_count": null,
      "outputs": [
        {
          "output_type": "display_data",
          "data": {
            "text/plain": [
              "<Figure size 640x480 with 1 Axes>"
            ],
            "image/png": "[encoded data removed]"
          },
          "metadata": {}
        }
      ]
    },
    {
      "cell_type": "code",
      "source": [
        "normal_transform = transforms.Compose(\n",
        "        [transforms.ToTensor(),\n",
        "        transforms.Normalize((0.5, 0.5, 0.5), (0.5, 0.5, 0.5))])\n",
        "\n",
        "flip_transform = transforms.Compose(\n",
        "    [transforms.ToTensor(),\n",
        "    transforms.Normalize((0.5, 0.5, 0.5), (0.5, 0.5, 0.5))\n",
        "    #,transforms.RandomHorizontalFlip(), transforms.RandomCrop(size=32)\n",
        "    ])\n",
        "# Data Loading \n",
        "\n",
        "trainset = torchvision.datasets.CIFAR10(root='./data', train=True,\n",
        "                                        download=True, transform=flip_transform)\n",
        "trainloader = torch.utils.data.DataLoader(trainset, batch_size=10,\n",
        "                                          shuffle=True, num_workers=2)\n",
        "testset = torchvision.datasets.CIFAR10(root='./data', train=False,\n",
        "                                      download=True, transform=normal_transform)\n",
        "testloader = torch.utils.data.DataLoader(testset, batch_size=10,\n",
        "                                        shuffle=False, num_workers=2)\n"
      ],
      "metadata": {
        "colab": {
          "base_uri": "https://localhost:8080/"
        },
        "id": "lSPDZCarglRs",
        "outputId": "d3e1ab42-9f21-4831-d94a-09d244b175ba"
      },
      "execution_count": null,
      "outputs": [
        {
          "output_type": "stream",
          "name": "stdout",
          "text": [
            "Files already downloaded and verified\n",
            "Files already downloaded and verified\n"
          ]
        }
      ]
    },
    {
      "cell_type": "code",
      "source": [
        "print(\"The Best Testing Accuracy:\")\n",
        "# Bestmodel = M.best\n",
        "print(\"Accuracy for the best model is 47.38%\")\n"
      ],
      "metadata": {
        "colab": {
          "base_uri": "https://localhost:8080/"
        },
        "id": "4MaouGlGQVi7",
        "outputId": "af221353-be20-4a30-982c-b7efcce39b4c"
      },
      "execution_count": null,
      "outputs": [
        {
          "output_type": "stream",
          "name": "stdout",
          "text": [
            "The Best Testing Accuracy:\n",
            "Accuracy for the best model is 47.38%\n"
          ]
        }
      ]
    },
    {
      "cell_type": "code",
      "source": [],
      "metadata": {
        "id": "jqSZIB3E2jJZ"
      },
      "execution_count": null,
      "outputs": []
    },
    {
      "cell_type": "code",
      "source": [
        "class Net(nn.Module):\n",
        "    def __init__(self):\n",
        "        super().__init__()\n",
        "        self.conv1 = nn.Conv2d(3, 32, 3)\n",
        "        self.pool = nn.MaxPool2d(2, stride=1)\n",
        "        self.conv2 = nn.Conv2d(32, 64, 5)\n",
        "        self.conv3 = nn.Conv2d(64, 64, 3)\n",
        "        self.fc1 = nn.Linear(22*22*64, 64)\n",
        "        self.fc2 = nn.Linear(64, 10)\n",
        "      \n",
        "\n",
        "    def forward(self, x):\n",
        "        x = self.pool(F.relu(self.conv1(x)))\n",
        "        x = self.pool(F.relu(self.conv2(x)))\n",
        "        x = (F.relu(self.conv3(x)))\n",
        "        x = torch.flatten(x, 1) # flatten all dimensions except batch\n",
        "        x = F.relu(self.fc1(x))\n",
        "        x = self.fc2(x)\n",
        "        return x\n",
        "        \n",
        "# Some other functions:\n",
        "def Accuracy(dataloader,model):     \n",
        "    correct = 0\n",
        "    total = 0\n",
        "    # since we're not training, we don't need to calculate the gradients for our outputs\n",
        "    for data in dataloader:\n",
        "        images, labels = data\n",
        "        images = images.to(device)\n",
        "        labels = labels.to(device)\n",
        "        outputs = model(images)\n",
        "        _, predicted = torch.max(outputs.data, 1)\n",
        "        total += labels.size(0)\n",
        "        correct += (predicted == labels).sum().item()\n",
        "\n",
        "    return 100 * correct / total\n",
        "\n",
        "class CNNModel:\n",
        "  def __init__(self, batch_size,epochs,lr):\n",
        "    self.batchSize = batch_size\n",
        "    self.epochs = epochs\n",
        "    self.learningRate = lr\n",
        "    self.classes = ('plane', 'car', 'bird', 'cat', 'deer', 'dog', 'frog', 'horse', 'ship', 'truck')\n",
        "    self.trainloader = None\n",
        "    self.valLoader = None\n",
        "    self.AccTrain = []\n",
        "    self.AccVal = []\n",
        "    self.Epoch = []\n",
        "    self.Model = None\n",
        "    self.best = None\n",
        "\n",
        "  def loadData(self):\n",
        "    # Data transformations \n",
        "    normal_transform = transforms.Compose(\n",
        "        [transforms.ToTensor(),\n",
        "        transforms.Normalize((0.5, 0.5, 0.5), (0.5, 0.5, 0.5))])\n",
        "\n",
        "    flip_transform = transforms.Compose(\n",
        "        [transforms.ToTensor(),\n",
        "        transforms.Normalize((0.5, 0.5, 0.5), (0.5, 0.5, 0.5))\n",
        "        #,transforms.RandomHorizontalFlip(), transforms.RandomCrop(size=32)\n",
        "        ])\n",
        "    # Data Loading \n",
        "\n",
        "    trainset = torchvision.datasets.CIFAR10(root='./data', train=True,\n",
        "                                            download=True, transform=flip_transform)\n",
        "    trainloader = torch.utils.data.DataLoader(trainset, batch_size=self.batchSize,\n",
        "                                              shuffle=True, num_workers=2)\n",
        "    testset = torchvision.datasets.CIFAR10(root='./data', train=False,\n",
        "                                          download=True, transform=normal_transform)\n",
        "    testloader = torch.utils.data.DataLoader(testset, batch_size=self.batchSize,\n",
        "                                            shuffle=False, num_workers=2)\n",
        "    self.trainloader = trainloader\n",
        "    self.valLoader = testloader\n",
        "    print(\"Data Loaded\")\n",
        "\n",
        "  def train(self):\n",
        "    bestAcc = 0\n",
        "    batches = 50000/self.batchSize\n",
        "    Train_Acc=[]\n",
        "    Test_Acc=[]\n",
        "    Epochs=[]\n",
        "    model = Net().to(device)\n",
        "    criterion = nn.CrossEntropyLoss()\n",
        "    optimizer = torch.optim.SGD(model.parameters(),lr=0.01,momentum=0.9)\n",
        "    scheduler = torch.optim.lr_scheduler.ReduceLROnPlateau(optimizer, 'min')\n",
        "    for epoch in range(self.epochs):  \n",
        "      running_loss = 0.0\n",
        "      for i, data in enumerate(self.trainloader, 0):\n",
        "          inputs, labels = data\n",
        "          images = inputs.to(device)\n",
        "          labels = labels.to(device)\n",
        "          # zero the parameter gradients\n",
        "          optimizer.zero_grad()\n",
        "          # Forward Pass\n",
        "          outputs = model(images)\n",
        "          loss = criterion(outputs, labels)\n",
        "          # Backpropagation and optimizatuon\n",
        "\n",
        "          loss.backward()\n",
        "          optimizer.step()\n",
        "\n",
        "          # print statistics\n",
        "          running_loss += loss.item()\n",
        "          # if i % 4000 == 3999:    # print every 2000 mini-batches\n",
        "      print(f' Epoch: {epoch + 1} loss: {running_loss / batches:.3f}')\n",
        "      val_loss = running_loss / batches\n",
        "      scheduler.step(val_loss)\n",
        "      running_loss = 0.0\n",
        "      with torch.no_grad():\n",
        "        testAcc = Accuracy(self.valLoader,model)\n",
        "        trainAcc = Accuracy(self.trainloader, model)\n",
        "        Train_Acc.append(trainAcc)\n",
        "        Test_Acc.append(testAcc)\n",
        "        Epochs.append(epoch+1)\n",
        "        print(f'Accuracy of the network on the 10000 test images: {testAcc} %')\n",
        "        print(f'Accuracy of the network on the train images: {trainAcc} %')\n",
        "        if(testAcc>bestAcc):\n",
        "          self.best = model\n",
        "          bestAcc = testAcc\n",
        "    self.Model = model\n",
        "    self.AccVal = Test_Acc\n",
        "    self.AccTrain = Train_Acc\n",
        "    self.Epoch = Epochs\n",
        "\n",
        "def drawAcc(TrainAcc,TestAcc,Epoch):\n",
        "  x = Epoch\n",
        "  y1= TrainAcc\n",
        "  y2 = TestAcc\n",
        "\n",
        "  plt.plot(x,y1,color='blue',label = 'Training Accuracy') # for training data \n",
        "  plt.plot(x,y2,color='red',label= 'Validation Accuracy') # for test data \n",
        "  plt.legend()\n",
        "  plt.show()\n"
      ],
      "metadata": {
        "id": "barid8I12jXb"
      },
      "execution_count": null,
      "outputs": []
    },
    {
      "cell_type": "code",
      "source": [
        "M = CNNModel(10,12,0.001)\n",
        "M.loadData()\n",
        "M.train() \n",
        "model = M.Model\n",
        "trainloader = M.trainloader\n",
        "valLoader = M.valLoader\n",
        "# print(\"=====================================\")\n",
        "# print(\"---------(\"+\"lr = \"+str(lr)+\" )----------\")\n",
        "drawAcc(M.AccTrain,M.AccVal,M.Epoch)\n",
        "accT = Accuracy(trainloader,model)\n",
        "accV = Accuracy(valLoader,model)\n",
        "# ValAcc.append(accV)\n",
        "# TrainAcc.append(accT)"
      ],
      "metadata": {
        "id": "VNvZCpph2oxn"
      },
      "execution_count": null,
      "outputs": []
    },
    {
      "cell_type": "code",
      "source": [
        "drawAcc(M.AccTrain,M.AccVal,M.Epoch)"
      ],
      "metadata": {
        "id": "rHoKT6RB2v3Z"
      },
      "execution_count": null,
      "outputs": []
    }
  ]
}