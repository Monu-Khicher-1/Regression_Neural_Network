{
  "nbformat": 4,
  "nbformat_minor": 0,
  "metadata": {
    "colab": {
      "provenance": []
    },
    "kernelspec": {
      "name": "python3",
      "display_name": "Python 3"
    },
    "language_info": {
      "name": "python"
    }
  },
  "cells": [
    {
      "cell_type": "code",
      "execution_count": null,
      "metadata": {
        "id": "hrkmRU-JqZWD"
      },
      "outputs": [],
      "source": [
        "import torch\n",
        "import torch.nn as nn\n",
        "import torchvision\n",
        "import torchvision.transforms as transforms\n",
        "import torchvision.datasets as datasets\n",
        "import matplotlib.pyplot as plt\n",
        "import numpy as np\n",
        "import torch.nn.functional as F"
      ]
    },
    {
      "cell_type": "code",
      "source": [
        "device = torch.device('cuda' if torch.cuda.is_available() else 'cpu')"
      ],
      "metadata": {
        "id": "O8Zy4Jb2qoHi"
      },
      "execution_count": null,
      "outputs": []
    },
    {
      "cell_type": "code",
      "source": [
        "class Net(nn.Module):\n",
        "    def __init__(self):\n",
        "        super().__init__()\n",
        "        self.conv1 = nn.Conv2d(3, 32, 3)\n",
        "        self.pool = nn.MaxPool2d(2, stride=1)\n",
        "        self.conv2 = nn.Conv2d(32, 64, 5)\n",
        "        self.conv3 = nn.Conv2d(64, 64, 3)\n",
        "        self.fc1 = nn.Linear(22*22*64, 64)\n",
        "        self.fc2 = nn.Linear(64, 10)\n",
        "\n",
        "    def forward(self, x):\n",
        "        x = self.pool(F.relu(self.conv1(x)))\n",
        "        x = self.pool(F.relu(self.conv2(x)))\n",
        "        x = (F.relu(self.conv3(x)))\n",
        "        x = torch.flatten(x, 1) # flatten all dimensions except batch\n",
        "        x = F.relu(self.fc1(x))\n",
        "        x = self.fc2(x)\n",
        "        return x\n",
        "        \n",
        "# Some other functions:\n",
        "def Accuracy(dataloader,model):     \n",
        "    correct = 0\n",
        "    total = 0\n",
        "    # since we're not training, we don't need to calculate the gradients for our outputs\n",
        "    for data in dataloader:\n",
        "        images, labels = data\n",
        "        images = images.to(device)\n",
        "        labels = labels.to(device)\n",
        "        outputs = model(images)\n",
        "        _, predicted = torch.max(outputs.data, 1)\n",
        "        total += labels.size(0)\n",
        "        correct += (predicted == labels).sum().item()\n",
        "\n",
        "    return 100 * correct / total\n",
        "\n",
        "class CNNModel:\n",
        "  def __init__(self, batch_size,epochs,lr):\n",
        "    self.batchSize = batch_size\n",
        "    self.epochs = epochs\n",
        "    self.learningRate = lr\n",
        "    self.classes = ('plane', 'car', 'bird', 'cat', 'deer', 'dog', 'frog', 'horse', 'ship', 'truck')\n",
        "    self.trainloader = None\n",
        "    self.valLoader = None\n",
        "    self.AccTrain = []\n",
        "    self.AccVal = []\n",
        "    self.Epoch = []\n",
        "    self.Model = None\n",
        "\n",
        "  def loadData(self):\n",
        "    # Data transformations \n",
        "    normal_transform = transforms.Compose(\n",
        "        [transforms.ToTensor(),\n",
        "        transforms.Normalize((0.5, 0.5, 0.5), (0.5, 0.5, 0.5))])\n",
        "\n",
        "    flip_transform = transforms.Compose(\n",
        "        [transforms.ToTensor(),\n",
        "        transforms.Normalize((0.5, 0.5, 0.5), (0.5, 0.5, 0.5))\n",
        "        #,transforms.RandomHorizontalFlip(), transforms.RandomCrop(size=32)\n",
        "        ])\n",
        "    # Data Loading \n",
        "\n",
        "    trainset = torchvision.datasets.CIFAR10(root='./data', train=True,\n",
        "                                            download=True, transform=flip_transform)\n",
        "    trainloader = torch.utils.data.DataLoader(trainset, batch_size=self.batchSize,\n",
        "                                              shuffle=True, num_workers=2)\n",
        "    testset = torchvision.datasets.CIFAR10(root='./data', train=False,\n",
        "                                          download=True, transform=normal_transform)\n",
        "    testloader = torch.utils.data.DataLoader(testset, batch_size=self.batchSize,\n",
        "                                            shuffle=False, num_workers=2)\n",
        "    self.trainloader = trainloader\n",
        "    self.valLoader = testloader\n",
        "    print(\"Data Loaded\")\n",
        "\n",
        "  def train(self):\n",
        "    batches = 50000/self.batchSize\n",
        "    Train_Acc=[]\n",
        "    Test_Acc=[]\n",
        "    Epochs=[]\n",
        "    model = Net().to(device)\n",
        "    criterion = nn.CrossEntropyLoss()\n",
        "    optimizer = torch.optim.SGD(model.parameters(),lr=self.learningRate)\n",
        "    for epoch in range(self.epochs):  \n",
        "      running_loss = 0.0\n",
        "      for i, data in enumerate(self.trainloader, 0):\n",
        "          inputs, labels = data\n",
        "          images = inputs.to(device)\n",
        "          labels = labels.to(device)\n",
        "          # zero the parameter gradients\n",
        "          optimizer.zero_grad()\n",
        "          # Forward Pass\n",
        "          outputs = model(images)\n",
        "          loss = criterion(outputs, labels)\n",
        "          # Backpropagation and optimizatuon\n",
        "\n",
        "          loss.backward()\n",
        "          optimizer.step()\n",
        "\n",
        "          # print statistics\n",
        "          running_loss += loss.item()\n",
        "          # if i % 4000 == 3999:    # print every 2000 mini-batches\n",
        "      print(f' Epoch: {epoch + 1} loss: {running_loss / batches:.3f}')\n",
        "      running_loss = 0.0\n",
        "      # with torch.no_grad():\n",
        "      #   testAcc = Accuracy(self.valLoader,model)\n",
        "      #   trainAcc = Accuracy(self.trainloader, model)\n",
        "      #   Train_Acc.append(trainAcc)\n",
        "      #   Test_Acc.append(testAcc)\n",
        "      #   Epochs.append(epoch+1)\n",
        "      #   print(f'Accuracy of the network on the 10000 test images: {testAcc} %')\n",
        "      #   print(f'Accuracy of the network on the train images: {trainAcc} %')\n",
        "    self.Model = model\n",
        "    self.AccVal = Test_Acc\n",
        "    self.AccTrain = Train_Acc\n",
        "    self.Epoch = Epochs\n",
        "\n",
        "\n"
      ],
      "metadata": {
        "id": "0lz__e6vs9A2"
      },
      "execution_count": null,
      "outputs": []
    },
    {
      "cell_type": "code",
      "source": [
        "def drawAcc(TrainAcc,TestAcc,Epoch):\n",
        "  x = Epoch\n",
        "  y1= TrainAcc\n",
        "  y2 = TestAcc\n",
        "\n",
        "  plt.plot(x,y1,color='blue',label = 'Training Accuracy') # for training data \n",
        "  plt.plot(x,y2,color='red',label= 'Validation Accuracy') # for test data \n",
        "  plt.legend()\n",
        "  plt.show()"
      ],
      "metadata": {
        "id": "2vS4VWLetAjy"
      },
      "execution_count": null,
      "outputs": []
    },
    {
      "cell_type": "code",
      "source": [
        "def drawBS(x,y,z):\n",
        "  plt.plot(x,y,color='blue',label = 'Training Accuracy') # for training data \n",
        "  plt.plot(x,z,color='red',label= 'Validation Accuracy') # for test data \n",
        "  plt.legend() \n",
        "  plt.xlabel(\"Batch Size\") \n",
        "  plt.ylabel(\"Accuracy\")\n",
        "  plt.show()\n",
        "\n",
        "BatchSize = [4,8,16,32]\n",
        "ValAcc = []\n",
        "TrainAcc = []\n",
        "for i in range(len(BatchSize)):\n",
        "  batchSize = BatchSize[i]\n",
        "  print(\"=====================================\")\n",
        "  print(\"---------( \"+\"Batch Size = \"+str(batchSize)+\" )----------\")\n",
        "  M = CNNModel(batchSize,10,0.001)\n",
        "  M.loadData()\n",
        "  M.train() \n",
        "  model = M.Model\n",
        "  trainloader = M.trainloader\n",
        "  valLoader = M.valLoader\n",
        " \n",
        "  # drawAcc(M.AccTrain,M.AccVal,M.Epoch)[ -13,  134,  119,  100, 57],[ -13,  134,  119,  100, 57],\n",
        "  accT = Accuracy(trainloader,model)\n",
        "  accV = Accuracy(valLoader,model)\n",
        "  ValAcc.append(accV)\n",
        "  TrainAcc.append(accT)\n",
        "\n",
        "drawBS(BatchSize,TrainAcc,ValAcc)"
      ],
      "metadata": {
        "colab": {
          "base_uri": "https://localhost:8080/",
          "height": 1000
        },
        "id": "XMbZD9cetUkU",
        "outputId": "33334902-a560-4ae1-edc9-2a658d9bef0d"
      },
      "execution_count": null,
      "outputs": [
        {
          "metadata": {
            "tags": null
          },
          "name": "stdout",
          "output_type": "stream",
          "text": [
            "=====================================\n",
            "---------( Batch Size = 4 )----------\n",
            "Downloading https://www.cs.toronto.edu/~kriz/cifar-10-python.tar.gz to ./data/cifar-10-python.tar.gz\n"
          ]
        },
        {
          "metadata": {
            "tags": null
          },
          "name": "stderr",
          "output_type": "stream",
          "text": [
            "100%|██████████| 170498071/170498071 [00:32<00:00, 5316538.54it/s] \n"
          ]
        },
        {
          "output_type": "stream",
          "name": "stdout",
          "text": [
            "Extracting ./data/cifar-10-python.tar.gz to ./data\n",
            "Files already downloaded and verified\n",
            "Data Loaded\n",
            " Epoch: 1 loss: 1.816\n",
            " Epoch: 2 loss: 1.405\n",
            " Epoch: 3 loss: 1.210\n",
            " Epoch: 4 loss: 1.069\n",
            " Epoch: 5 loss: 0.963\n",
            " Epoch: 6 loss: 0.878\n",
            " Epoch: 7 loss: 0.805\n",
            " Epoch: 8 loss: 0.742\n",
            " Epoch: 9 loss: 0.678\n",
            " Epoch: 10 loss: 0.617\n",
            " Epoch: 11 loss: 0.559\n",
            " Epoch: 12 loss: 0.500\n",
            "=====================================\n",
            "---------( Batch Size = 8 )----------\n",
            "Files already downloaded and verified\n",
            "Files already downloaded and verified\n",
            "Data Loaded\n",
            " Epoch: 1 loss: 1.974\n",
            " Epoch: 2 loss: 1.519\n",
            " Epoch: 3 loss: 1.368\n",
            " Epoch: 4 loss: 1.278\n",
            " Epoch: 5 loss: 1.195\n",
            " Epoch: 6 loss: 1.113\n",
            " Epoch: 7 loss: 1.040\n",
            " Epoch: 8 loss: 0.974\n",
            " Epoch: 9 loss: 0.914\n",
            " Epoch: 10 loss: 0.858\n",
            " Epoch: 11 loss: 0.806\n",
            " Epoch: 12 loss: 0.760\n",
            "=====================================\n",
            "---------( Batch Size = 16 )----------\n",
            "Files already downloaded and verified\n",
            "Files already downloaded and verified\n",
            "Data Loaded\n",
            " Epoch: 1 loss: 2.062\n",
            " Epoch: 2 loss: 1.691\n",
            " Epoch: 3 loss: 1.524\n",
            " Epoch: 4 loss: 1.424\n",
            " Epoch: 5 loss: 1.350\n",
            " Epoch: 6 loss: 1.287\n",
            " Epoch: 7 loss: 1.230\n",
            " Epoch: 8 loss: 1.177\n",
            " Epoch: 9 loss: 1.127\n",
            " Epoch: 10 loss: 1.080\n",
            " Epoch: 11 loss: 1.034\n",
            " Epoch: 12 loss: 0.991\n",
            "=====================================\n",
            "---------( Batch Size = 32 )----------\n",
            "Files already downloaded and verified\n",
            "Files already downloaded and verified\n",
            "Data Loaded\n",
            " Epoch: 1 loss: 2.237\n",
            " Epoch: 2 loss: 1.921\n",
            " Epoch: 3 loss: 1.732\n",
            " Epoch: 4 loss: 1.589\n",
            " Epoch: 5 loss: 1.501\n",
            " Epoch: 6 loss: 1.437\n",
            " Epoch: 7 loss: 1.386\n",
            " Epoch: 8 loss: 1.348\n",
            " Epoch: 9 loss: 1.314\n",
            " Epoch: 10 loss: 1.284\n",
            " Epoch: 11 loss: 1.257\n",
            " Epoch: 12 loss: 1.229\n"
          ]
        },
        {
          "output_type": "display_data",
          "data": {
            "text/plain": [
              "<Figure size 640x480 with 1 Axes>"
            ],
            "image/png": "[encoded data removed]"
          },
          "metadata": {}
        }
      ]
    },
    {
      "cell_type": "markdown",
      "source": [
        "## Reason of this behaviour...\n",
        "\n",
        "Both training as well as test accuracy decrease with increase in batch size. This is because in most implementations the loss and hence the gradient is averaged over the batch. This means for a fixed number of training epochs, larger batch sizes take fewer steps. and learnig staps are low for higher batch size. That's why Accuracy decrease with increase in batch size."
      ],
      "metadata": {
        "id": "ZOW4nQArME_c"
      }
    }
  ]
}